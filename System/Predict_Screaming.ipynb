{
 "cells": [
  {
   "cell_type": "code",
   "execution_count": 29,
   "metadata": {
    "colab": {
     "base_uri": "https://localhost:8080/",
     "height": 275
    },
    "id": "sQR_0Vjs4ZQZ",
    "outputId": "c71b01e8-0472-42c8-f165-c188e87593d1"
   },
   "outputs": [],
   "source": [
    "import os\n",
    "import torch\n",
    "import numpy as np\n",
    "import matplotlib.pyplot as plt\n",
    "import soundfile as sf\n",
    "import scipy\n",
    "import librosa\n",
    "from torch import nn\n",
    "from scipy.signal import stft\n",
    "import sounddevice as sd"
   ]
  },
  {
   "cell_type": "code",
   "execution_count": 30,
   "metadata": {},
   "outputs": [
    {
     "name": "stdout",
     "output_type": "stream",
     "text": [
      "Recording...\n",
      "Recording saved.\n"
     ]
    }
   ],
   "source": [
    "duration = 5  # 초\n",
    "sampling_rate = 44100\n",
    "print(\"Recording...\")\n",
    "audio_data = sd.rec(int(duration * sampling_rate), samplerate=sampling_rate, channels=1, dtype='float32')\n",
    "sd.wait()\n",
    "sf.write(\"recorded_audio.wav\", audio_data, sampling_rate)\n",
    "print(\"Recording saved.\")"
   ]
  },
  {
   "cell_type": "code",
   "execution_count": 31,
   "metadata": {},
   "outputs": [],
   "source": [
    "# 모델 정의 (CNN+Transformer)\n",
    "class CNNTransformer(nn.Module):\n",
    "    def __init__(self, input_size=257, num_classes=1):\n",
    "        super(CNNTransformer, self).__init__()\n",
    "        self.cnn = nn.Sequential(\n",
    "            nn.Conv1d(input_size, 128, kernel_size=3, padding=1),\n",
    "            nn.ReLU(),\n",
    "            nn.MaxPool1d(kernel_size=2),\n",
    "            nn.Conv1d(128, 32, kernel_size=3, padding=1),\n",
    "            nn.ReLU(),\n",
    "            nn.MaxPool1d(kernel_size=2)\n",
    "        )\n",
    "        self.transformer_layer = nn.TransformerEncoderLayer(d_model=32, nhead=2)\n",
    "        self.transformer = nn.TransformerEncoder(self.transformer_layer, num_layers=1)\n",
    "        self.fc = nn.Linear(32, num_classes)\n",
    "\n",
    "    def forward(self, x):\n",
    "        x = self.cnn(x)\n",
    "        x = x.permute(2, 0, 1)\n",
    "        x = self.transformer(x)\n",
    "        x = x.mean(dim=0)\n",
    "        x = self.fc(x)\n",
    "        return x"
   ]
  },
  {
   "cell_type": "code",
   "execution_count": 32,
   "metadata": {},
   "outputs": [
    {
     "name": "stderr",
     "output_type": "stream",
     "text": [
      "/var/folders/d4/t8h5srt10_58wj8kmzzdyqq40000gn/T/ipykernel_59741/1913863380.py:3: FutureWarning: You are using `torch.load` with `weights_only=False` (the current default value), which uses the default pickle module implicitly. It is possible to construct malicious pickle data which will execute arbitrary code during unpickling (See https://github.com/pytorch/pytorch/blob/main/SECURITY.md#untrusted-models for more details). In a future release, the default value for `weights_only` will be flipped to `True`. This limits the functions that could be executed during unpickling. Arbitrary objects will no longer be allowed to be loaded via this mode unless they are explicitly allowlisted by the user via `torch.serialization.add_safe_globals`. We recommend you start setting `weights_only=True` for any use case where you don't have full control of the loaded file. Please open an issue on GitHub for any issues related to this experimental feature.\n",
      "  model.load_state_dict(torch.load(\"cnn_transformer_model.pth\"))\n"
     ]
    },
    {
     "data": {
      "text/plain": [
       "CNNTransformer(\n",
       "  (cnn): Sequential(\n",
       "    (0): Conv1d(257, 128, kernel_size=(3,), stride=(1,), padding=(1,))\n",
       "    (1): ReLU()\n",
       "    (2): MaxPool1d(kernel_size=2, stride=2, padding=0, dilation=1, ceil_mode=False)\n",
       "    (3): Conv1d(128, 32, kernel_size=(3,), stride=(1,), padding=(1,))\n",
       "    (4): ReLU()\n",
       "    (5): MaxPool1d(kernel_size=2, stride=2, padding=0, dilation=1, ceil_mode=False)\n",
       "  )\n",
       "  (transformer_layer): TransformerEncoderLayer(\n",
       "    (self_attn): MultiheadAttention(\n",
       "      (out_proj): NonDynamicallyQuantizableLinear(in_features=32, out_features=32, bias=True)\n",
       "    )\n",
       "    (linear1): Linear(in_features=32, out_features=2048, bias=True)\n",
       "    (dropout): Dropout(p=0.1, inplace=False)\n",
       "    (linear2): Linear(in_features=2048, out_features=32, bias=True)\n",
       "    (norm1): LayerNorm((32,), eps=1e-05, elementwise_affine=True)\n",
       "    (norm2): LayerNorm((32,), eps=1e-05, elementwise_affine=True)\n",
       "    (dropout1): Dropout(p=0.1, inplace=False)\n",
       "    (dropout2): Dropout(p=0.1, inplace=False)\n",
       "  )\n",
       "  (transformer): TransformerEncoder(\n",
       "    (layers): ModuleList(\n",
       "      (0): TransformerEncoderLayer(\n",
       "        (self_attn): MultiheadAttention(\n",
       "          (out_proj): NonDynamicallyQuantizableLinear(in_features=32, out_features=32, bias=True)\n",
       "        )\n",
       "        (linear1): Linear(in_features=32, out_features=2048, bias=True)\n",
       "        (dropout): Dropout(p=0.1, inplace=False)\n",
       "        (linear2): Linear(in_features=2048, out_features=32, bias=True)\n",
       "        (norm1): LayerNorm((32,), eps=1e-05, elementwise_affine=True)\n",
       "        (norm2): LayerNorm((32,), eps=1e-05, elementwise_affine=True)\n",
       "        (dropout1): Dropout(p=0.1, inplace=False)\n",
       "        (dropout2): Dropout(p=0.1, inplace=False)\n",
       "      )\n",
       "    )\n",
       "  )\n",
       "  (fc): Linear(in_features=32, out_features=1, bias=True)\n",
       ")"
      ]
     },
     "execution_count": 32,
     "metadata": {},
     "output_type": "execute_result"
    }
   ],
   "source": [
    "# 모델 불러오기\n",
    "model = CNNTransformer(input_size=257, num_classes=1)\n",
    "model.load_state_dict(torch.load(\"cnn_transformer_model.pth\"))\n",
    "model.eval()"
   ]
  },
  {
   "cell_type": "code",
   "execution_count": 33,
   "metadata": {},
   "outputs": [],
   "source": [
    "# Fourier Transform 함수\n",
    "def perform_fourier_transform(audio_data):\n",
    "    _, _, freq_data = stft(audio_data, fs=sampling_rate, window='rectangular', nperseg=512, noverlap=0, nfft=512)\n",
    "    magnitude = np.abs(freq_data)\n",
    "    return magnitude"
   ]
  },
  {
   "cell_type": "code",
   "execution_count": 65,
   "metadata": {},
   "outputs": [],
   "source": [
    "# WAV 파일을 사용한 판단 함수\n",
    "def process_audio_file(file_path):\n",
    "    print(f\"Loading audio file: {file_path}\")\n",
    "    audio_data, sr = sf.read(file_path)\n",
    "    if sr != sampling_rate:\n",
    "        audio_data = librosa.resample(audio_data, orig_sr=sr, target_sr=sampling_rate)\n",
    "\n",
    "    # Fourier Transform 및 데이터 변환\n",
    "    magnitude = perform_fourier_transform(audio_data)\n",
    "    magnitude = magnitude.T  # Transpose to match (time_frames, frequency_bins)\n",
    "    input_data = torch.tensor(magnitude, dtype=torch.float32).unsqueeze(0).permute(0, 2, 1)  # (batch_size, channels, sequence_length)\n",
    "\n",
    "    with torch.no_grad():\n",
    "        output = model(input_data)\n",
    "        prediction = torch.sigmoid(output).item()\n",
    "\n",
    "    # 예측 결과 시각화\n",
    "    plt.figure(figsize=(10, 6))\n",
    "\n",
    "    # 오디오 신호 플롯\n",
    "    plt.subplot(2, 1, 1)\n",
    "    plt.plot(audio_data[:sampling_rate])\n",
    "    plt.title(\"Audio Signal\")\n",
    "    plt.xlim(0, len(audio_data))\n",
    "    plt.ylim(-1, 1)\n",
    "\n",
    "    # 예측 결과 출력\n",
    "    plt.subplot(2, 1, 2)\n",
    "    plt.title(\"Prediction Result\")\n",
    "    plt.axis('off')\n",
    "\n",
    "    plt.tight_layout()\n",
    "    plt.show()"
   ]
  },
  {
   "cell_type": "code",
   "execution_count": 66,
   "metadata": {},
   "outputs": [
    {
     "name": "stdout",
     "output_type": "stream",
     "text": [
      "Loading audio file: /Users/iuseong/Downloads/Record/screaming001.wav\n"
     ]
    },
    {
     "data": {
      "image/png": "[encoded data removed]",
      "text/plain": [
       "<Figure size 1000x600 with 2 Axes>"
      ]
     },
     "metadata": {},
     "output_type": "display_data"
    }
   ],
   "source": [
    "# 메인 함수 실행\n",
    "if __name__ == \"__main__\":\n",
    "    file_path = \"/Users/iuseong/Downloads/Record/screaming001.wav\"\n",
    "    process_audio_file(file_path)"
   ]
  }
 ],
 "metadata": {
  "colab": {
   "name": "Welcome To Colab",
   "provenance": [],
   "toc_visible": true
  },
  "kernelspec": {
   "display_name": "Python 3",
   "name": "python3"
  },
  "language_info": {
   "codemirror_mode": {
    "name": "ipython",
    "version": 3
   },
   "file_extension": ".py",
   "mimetype": "text/x-python",
   "name": "python",
   "nbconvert_exporter": "python",
   "pygments_lexer": "ipython3",
   "version": "3.12.6"
  }
 },
 "nbformat": 4,
 "nbformat_minor": 0
}
